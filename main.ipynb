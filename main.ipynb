{
 "cells": [
  {
   "cell_type": "code",
   "execution_count": 1,
   "metadata": {},
   "outputs": [],
   "source": [
    "import pandas as pd\n",
    "import numpy as np"
   ]
  },
  {
   "cell_type": "code",
   "execution_count": 2,
   "metadata": {},
   "outputs": [],
   "source": [
    "def strToList(df, column, breakChar=\"|\"):\n",
    "    return [x.replace(\" \", \"\" if breakChar != \" \" else \" \").split(breakChar) if isinstance(x, str) else [] for x in df[column].to_list()]\n",
    "\n",
    "columnsToDrop = [\"budget\", \"revenue\", \"popularity\", \"director\",\"production_companies\", \"revenue_adj\", \"vote_count\", \"vote_average\", \"budget_adj\", \"release_date\"]"
   ]
  },
  {
   "cell_type": "code",
   "execution_count": 3,
   "metadata": {},
   "outputs": [],
   "source": [
    "local_data = pd.read_csv(\"tmdb_movies_data.csv\")\n",
    "local_data = local_data.drop(columns=columnsToDrop)"
   ]
  },
  {
   "cell_type": "code",
   "execution_count": 4,
   "metadata": {},
   "outputs": [
    {
     "data": {
      "text/plain": [
       "id                   0\n",
       "imdb_id             10\n",
       "original_title       0\n",
       "cast                76\n",
       "homepage          7930\n",
       "tagline           2824\n",
       "keywords          1493\n",
       "overview             4\n",
       "runtime              0\n",
       "genres              23\n",
       "release_year         0\n",
       "dtype: int64"
      ]
     },
     "execution_count": 4,
     "metadata": {},
     "output_type": "execute_result"
    }
   ],
   "source": [
    "local_data.isna().sum()"
   ]
  },
  {
   "cell_type": "code",
   "execution_count": 5,
   "metadata": {},
   "outputs": [
    {
     "data": {
      "text/plain": [
       "(10866, 11)"
      ]
     },
     "execution_count": 5,
     "metadata": {},
     "output_type": "execute_result"
    }
   ],
   "source": [
    "local_data.shape"
   ]
  },
  {
   "cell_type": "code",
   "execution_count": 6,
   "metadata": {},
   "outputs": [],
   "source": [
    "# to drop data with null values\n",
    "\n",
    "# local_data = local_data.loc[local_data['cast'].notna()]\n",
    "# local_data = local_data.loc[local_data['genres'].notna()]\n",
    "# local_data = local_data.loc[local_data['keywords'].notna()]\n",
    "\n",
    "# not dropping rows with null data because we replace that with empty list"
   ]
  },
  {
   "cell_type": "code",
   "execution_count": 7,
   "metadata": {},
   "outputs": [],
   "source": [
    "local_data['cast'] = strToList(local_data, \"cast\")\n",
    "local_data['genres'] = strToList(local_data, \"genres\")\n",
    "local_data['keywords'] = strToList(local_data, \"keywords\")\n",
    "local_data['overview'] = strToList(local_data, column=\"overview\", breakChar=\" \")"
   ]
  },
  {
   "cell_type": "code",
   "execution_count": 8,
   "metadata": {},
   "outputs": [
    {
     "data": {
      "text/plain": [
       "(10866, 11)"
      ]
     },
     "execution_count": 8,
     "metadata": {},
     "output_type": "execute_result"
    }
   ],
   "source": [
    "local_data.shape"
   ]
  },
  {
   "cell_type": "code",
   "execution_count": 9,
   "metadata": {},
   "outputs": [
    {
     "data": {
      "text/html": [
       "<div>\n",
       "<style scoped>\n",
       "    .dataframe tbody tr th:only-of-type {\n",
       "        vertical-align: middle;\n",
       "    }\n",
       "\n",
       "    .dataframe tbody tr th {\n",
       "        vertical-align: top;\n",
       "    }\n",
       "\n",
       "    .dataframe thead th {\n",
       "        text-align: right;\n",
       "    }\n",
       "</style>\n",
       "<table border=\"1\" class=\"dataframe\">\n",
       "  <thead>\n",
       "    <tr style=\"text-align: right;\">\n",
       "      <th></th>\n",
       "      <th>id</th>\n",
       "      <th>imdb_id</th>\n",
       "      <th>original_title</th>\n",
       "      <th>cast</th>\n",
       "      <th>homepage</th>\n",
       "      <th>tagline</th>\n",
       "      <th>keywords</th>\n",
       "      <th>overview</th>\n",
       "      <th>runtime</th>\n",
       "      <th>genres</th>\n",
       "      <th>release_year</th>\n",
       "    </tr>\n",
       "  </thead>\n",
       "  <tbody>\n",
       "    <tr>\n",
       "      <th>0</th>\n",
       "      <td>135397</td>\n",
       "      <td>tt0369610</td>\n",
       "      <td>Jurassic World</td>\n",
       "      <td>[ChrisPratt, BryceDallasHoward, IrrfanKhan, Vi...</td>\n",
       "      <td>http://www.jurassicworld.com/</td>\n",
       "      <td>The park is open.</td>\n",
       "      <td>[monster, dna, tyrannosaurusrex, velociraptor,...</td>\n",
       "      <td>[Twenty-two, years, after, the, events, of, Ju...</td>\n",
       "      <td>124</td>\n",
       "      <td>[Action, Adventure, ScienceFiction, Thriller]</td>\n",
       "      <td>2015</td>\n",
       "    </tr>\n",
       "    <tr>\n",
       "      <th>1</th>\n",
       "      <td>76341</td>\n",
       "      <td>tt1392190</td>\n",
       "      <td>Mad Max: Fury Road</td>\n",
       "      <td>[TomHardy, CharlizeTheron, HughKeays-Byrne, Ni...</td>\n",
       "      <td>http://www.madmaxmovie.com/</td>\n",
       "      <td>What a Lovely Day.</td>\n",
       "      <td>[future, chase, post-apocalyptic, dystopia, au...</td>\n",
       "      <td>[An, apocalyptic, story, set, in, the, furthes...</td>\n",
       "      <td>120</td>\n",
       "      <td>[Action, Adventure, ScienceFiction, Thriller]</td>\n",
       "      <td>2015</td>\n",
       "    </tr>\n",
       "    <tr>\n",
       "      <th>2</th>\n",
       "      <td>262500</td>\n",
       "      <td>tt2908446</td>\n",
       "      <td>Insurgent</td>\n",
       "      <td>[ShaileneWoodley, TheoJames, KateWinslet, Anse...</td>\n",
       "      <td>http://www.thedivergentseries.movie/#insurgent</td>\n",
       "      <td>One Choice Can Destroy You</td>\n",
       "      <td>[basedonnovel, revolution, dystopia, sequel, d...</td>\n",
       "      <td>[Beatrice, Prior, must, confront, her, inner, ...</td>\n",
       "      <td>119</td>\n",
       "      <td>[Adventure, ScienceFiction, Thriller]</td>\n",
       "      <td>2015</td>\n",
       "    </tr>\n",
       "    <tr>\n",
       "      <th>3</th>\n",
       "      <td>140607</td>\n",
       "      <td>tt2488496</td>\n",
       "      <td>Star Wars: The Force Awakens</td>\n",
       "      <td>[HarrisonFord, MarkHamill, CarrieFisher, AdamD...</td>\n",
       "      <td>http://www.starwars.com/films/star-wars-episod...</td>\n",
       "      <td>Every generation has a story.</td>\n",
       "      <td>[android, spaceship, jedi, spaceopera, 3d]</td>\n",
       "      <td>[Thirty, years, after, defeating, the, Galacti...</td>\n",
       "      <td>136</td>\n",
       "      <td>[Action, Adventure, ScienceFiction, Fantasy]</td>\n",
       "      <td>2015</td>\n",
       "    </tr>\n",
       "  </tbody>\n",
       "</table>\n",
       "</div>"
      ],
      "text/plain": [
       "       id    imdb_id                original_title  \\\n",
       "0  135397  tt0369610                Jurassic World   \n",
       "1   76341  tt1392190            Mad Max: Fury Road   \n",
       "2  262500  tt2908446                     Insurgent   \n",
       "3  140607  tt2488496  Star Wars: The Force Awakens   \n",
       "\n",
       "                                                cast  \\\n",
       "0  [ChrisPratt, BryceDallasHoward, IrrfanKhan, Vi...   \n",
       "1  [TomHardy, CharlizeTheron, HughKeays-Byrne, Ni...   \n",
       "2  [ShaileneWoodley, TheoJames, KateWinslet, Anse...   \n",
       "3  [HarrisonFord, MarkHamill, CarrieFisher, AdamD...   \n",
       "\n",
       "                                            homepage  \\\n",
       "0                      http://www.jurassicworld.com/   \n",
       "1                        http://www.madmaxmovie.com/   \n",
       "2     http://www.thedivergentseries.movie/#insurgent   \n",
       "3  http://www.starwars.com/films/star-wars-episod...   \n",
       "\n",
       "                         tagline  \\\n",
       "0              The park is open.   \n",
       "1             What a Lovely Day.   \n",
       "2     One Choice Can Destroy You   \n",
       "3  Every generation has a story.   \n",
       "\n",
       "                                            keywords  \\\n",
       "0  [monster, dna, tyrannosaurusrex, velociraptor,...   \n",
       "1  [future, chase, post-apocalyptic, dystopia, au...   \n",
       "2  [basedonnovel, revolution, dystopia, sequel, d...   \n",
       "3         [android, spaceship, jedi, spaceopera, 3d]   \n",
       "\n",
       "                                            overview  runtime  \\\n",
       "0  [Twenty-two, years, after, the, events, of, Ju...      124   \n",
       "1  [An, apocalyptic, story, set, in, the, furthes...      120   \n",
       "2  [Beatrice, Prior, must, confront, her, inner, ...      119   \n",
       "3  [Thirty, years, after, defeating, the, Galacti...      136   \n",
       "\n",
       "                                          genres  release_year  \n",
       "0  [Action, Adventure, ScienceFiction, Thriller]          2015  \n",
       "1  [Action, Adventure, ScienceFiction, Thriller]          2015  \n",
       "2          [Adventure, ScienceFiction, Thriller]          2015  \n",
       "3   [Action, Adventure, ScienceFiction, Fantasy]          2015  "
      ]
     },
     "execution_count": 9,
     "metadata": {},
     "output_type": "execute_result"
    }
   ],
   "source": [
    "local_data.head(4)"
   ]
  },
  {
   "cell_type": "code",
   "execution_count": 10,
   "metadata": {},
   "outputs": [
    {
     "data": {
      "text/plain": [
       "(629, 11)"
      ]
     },
     "execution_count": 10,
     "metadata": {},
     "output_type": "execute_result"
    }
   ],
   "source": [
    "local_data.loc[local_data['release_year'].isin([2015])].shape"
   ]
  },
  {
   "cell_type": "code",
   "execution_count": 11,
   "metadata": {},
   "outputs": [],
   "source": [
    "# to zip archive\n",
    "local_data.to_csv(\"clean.zip\", index=False, compression=dict(method='zip', archive_name='out.csv'))\n",
    "\n",
    "# to raw csv\n",
    "local_data.to_csv(\"clean.csv\", index=False)"
   ]
  }
 ],
 "metadata": {
  "interpreter": {
   "hash": "8d7479a859c55414954af77e700e50514d78a6d4c3f36b05d2f880335fe633c1"
  },
  "kernelspec": {
   "display_name": "Python 3.8.5 32-bit",
   "language": "python",
   "name": "python3"
  },
  "language_info": {
   "codemirror_mode": {
    "name": "ipython",
    "version": 3
   },
   "file_extension": ".py",
   "mimetype": "text/x-python",
   "name": "python",
   "nbconvert_exporter": "python",
   "pygments_lexer": "ipython3",
   "version": "3.9.6"
  },
  "orig_nbformat": 4
 },
 "nbformat": 4,
 "nbformat_minor": 2
}
